{
 "cells": [
  {
   "cell_type": "code",
   "execution_count": 5,
   "metadata": {},
   "outputs": [],
   "source": [
    "import numpy as np\n",
    "import pandas as pd\n",
    "import sklearn as sk"
   ]
  },
  {
   "cell_type": "code",
   "execution_count": 6,
   "metadata": {},
   "outputs": [],
   "source": [
    "import PIL\n",
    "import tensorflow as tf\n",
    "import matplotlib.pyplot as plt"
   ]
  },
  {
   "cell_type": "code",
   "execution_count": 7,
   "metadata": {},
   "outputs": [],
   "source": [
    "from tensorflow.keras.preprocessing.image import ImageDataGenerator # type: ignore\n"
   ]
  },
  {
   "cell_type": "code",
   "execution_count": 8,
   "metadata": {},
   "outputs": [
    {
     "name": "stdout",
     "output_type": "stream",
     "text": [
      "2.18.0\n",
      "1.5.2\n",
      "1.26.4\n",
      "2.2.2\n"
     ]
    }
   ],
   "source": [
    "print(tf.__version__)\n",
    "print(sk.__version__)\n",
    "print(np.__version__)\n",
    "print(pd.__version__)\n"
   ]
  },
  {
   "cell_type": "code",
   "execution_count": 9,
   "metadata": {},
   "outputs": [
    {
     "name": "stdout",
     "output_type": "stream",
     "text": [
      "Found 5216 images belonging to 2 classes.\n"
     ]
    }
   ],
   "source": [
    "training_dir=\"D:\\\\Learnings\\\\Machinester Program May'24\\\\Projects\\\\Pnemonia detection using chest x-rays\\\\chest_xray\\\\train\"\n",
    "training_generator= ImageDataGenerator(rescale=1./255)\n",
    "training_data = training_generator.flow_from_directory(training_dir, target_size=(200,200), class_mode='binary')"
   ]
  },
  {
   "cell_type": "code",
   "execution_count": 10,
   "metadata": {},
   "outputs": [
    {
     "name": "stdout",
     "output_type": "stream",
     "text": [
      "Found 16 images belonging to 2 classes.\n"
     ]
    }
   ],
   "source": [
    "val_dir=r\"D:\\Learnings\\Machinester Program May'24\\Projects\\Pnemonia detection using chest x-rays\\chest_xray\\val\"\n",
    "val_generator= ImageDataGenerator(rescale=1./255)\n",
    "val_data = val_generator.flow_from_directory(val_dir, target_size=(200,200), class_mode='binary')"
   ]
  },
  {
   "cell_type": "code",
   "execution_count": 11,
   "metadata": {},
   "outputs": [
    {
     "name": "stdout",
     "output_type": "stream",
     "text": [
      "Found 624 images belonging to 2 classes.\n"
     ]
    }
   ],
   "source": [
    "test_dir=r\"D:\\Learnings\\Machinester Program May'24\\Projects\\Pnemonia detection using chest x-rays\\chest_xray\\test\"\n",
    "test_generator= ImageDataGenerator(rescale=1./255)\n",
    "test_data = test_generator.flow_from_directory(test_dir, target_size=(200,200), class_mode='binary')"
   ]
  },
  {
   "cell_type": "code",
   "execution_count": 12,
   "metadata": {},
   "outputs": [],
   "source": [
    "import tensorflow as tf # type: ignore\n",
    "\n",
    "model = tf.keras.Sequential([\n",
    "    tf.keras.layers.Input(shape=(200, 200, 3)),\n",
    "    tf.keras.layers.Conv2D(32, (3, 3), activation='relu'),\n",
    "    tf.keras.layers.MaxPooling2D(2, 2),\n",
    "    \n",
    "    tf.keras.layers.Conv2D(64, (3, 3), activation='relu'),\n",
    "    tf.keras.layers.MaxPooling2D(2, 2),\n",
    "    tf.keras.layers.Dropout(0.2),\n",
    "    \n",
    "    tf.keras.layers.Conv2D(128, (3, 3), activation='relu'),\n",
    "    tf.keras.layers.MaxPooling2D(2, 2),\n",
    "    tf.keras.layers.Dropout(0.2),\n",
    "    \n",
    "    tf.keras.layers.Conv2D(256, (3, 3), activation='relu'), \n",
    "    tf.keras.layers.MaxPooling2D(2, 2),\n",
    "    tf.keras.layers.Dropout(0.2),\n",
    "    \n",
    "    tf.keras.layers.Conv2D(512, (3, 3), activation='relu'), \n",
    "    tf.keras.layers.MaxPooling2D(2, 2),\n",
    "    \n",
    "    tf.keras.layers.Flatten(),\n",
    "    tf.keras.layers.Dropout(0.2),\n",
    "    tf.keras.layers.Dense(512, activation='relu'),\n",
    "    tf.keras.layers.Dense(1, activation='sigmoid')\n",
    "])\n"
   ]
  },
  {
   "cell_type": "code",
   "execution_count": 13,
   "metadata": {},
   "outputs": [],
   "source": [
    "model.compile(optimizer=tf.keras.optimizers.Adam(learning_rate=0.001), loss='binary_crossentropy', metrics=['acc'])"
   ]
  },
  {
   "cell_type": "code",
   "execution_count": null,
   "metadata": {},
   "outputs": [
    {
     "name": "stdout",
     "output_type": "stream",
     "text": [
      "Epoch 1/200\n"
     ]
    },
    {
     "name": "stderr",
     "output_type": "stream",
     "text": [
      "c:\\Users\\Admin\\AppData\\Local\\Programs\\Python\\Python312\\Lib\\site-packages\\keras\\src\\trainers\\data_adapters\\py_dataset_adapter.py:122: UserWarning: Your `PyDataset` class should call `super().__init__(**kwargs)` in its constructor. `**kwargs` can include `workers`, `use_multiprocessing`, `max_queue_size`. Do not pass these arguments to `fit()`, as they will be ignored.\n",
      "  self._warn_if_super_not_called()\n"
     ]
    },
    {
     "name": "stdout",
     "output_type": "stream",
     "text": [
      "\u001b[1m163/163\u001b[0m \u001b[32m━━━━━━━━━━━━━━━━━━━━\u001b[0m\u001b[37m\u001b[0m \u001b[1m370s\u001b[0m 2s/step - acc: 0.7254 - loss: 0.6571 - val_acc: 0.6250 - val_loss: 0.8457\n",
      "Epoch 2/200\n",
      "\u001b[1m163/163\u001b[0m \u001b[32m━━━━━━━━━━━━━━━━━━━━\u001b[0m\u001b[37m\u001b[0m \u001b[1m333s\u001b[0m 2s/step - acc: 0.8943 - loss: 0.2645 - val_acc: 0.8125 - val_loss: 0.4077\n",
      "Epoch 3/200\n",
      "\u001b[1m163/163\u001b[0m \u001b[32m━━━━━━━━━━━━━━━━━━━━\u001b[0m\u001b[37m\u001b[0m \u001b[1m307s\u001b[0m 2s/step - acc: 0.9497 - loss: 0.1317 - val_acc: 0.8750 - val_loss: 0.2503\n",
      "Epoch 4/200\n",
      "\u001b[1m163/163\u001b[0m \u001b[32m━━━━━━━━━━━━━━━━━━━━\u001b[0m\u001b[37m\u001b[0m \u001b[1m285s\u001b[0m 2s/step - acc: 0.9612 - loss: 0.0994 - val_acc: 0.7500 - val_loss: 0.4074\n",
      "Epoch 5/200\n",
      "\u001b[1m163/163\u001b[0m \u001b[32m━━━━━━━━━━━━━━━━━━━━\u001b[0m\u001b[37m\u001b[0m \u001b[1m278s\u001b[0m 2s/step - acc: 0.9622 - loss: 0.0932 - val_acc: 0.8125 - val_loss: 0.2245\n",
      "Epoch 6/200\n",
      "\u001b[1m163/163\u001b[0m \u001b[32m━━━━━━━━━━━━━━━━━━━━\u001b[0m\u001b[37m\u001b[0m \u001b[1m276s\u001b[0m 2s/step - acc: 0.9731 - loss: 0.0694 - val_acc: 0.9375 - val_loss: 0.1165\n",
      "Epoch 7/200\n",
      "\u001b[1m163/163\u001b[0m \u001b[32m━━━━━━━━━━━━━━━━━━━━\u001b[0m\u001b[37m\u001b[0m \u001b[1m276s\u001b[0m 2s/step - acc: 0.9770 - loss: 0.0603 - val_acc: 0.7500 - val_loss: 0.5423\n",
      "Epoch 8/200\n",
      "\u001b[1m163/163\u001b[0m \u001b[32m━━━━━━━━━━━━━━━━━━━━\u001b[0m\u001b[37m\u001b[0m \u001b[1m277s\u001b[0m 2s/step - acc: 0.9749 - loss: 0.0600 - val_acc: 0.8750 - val_loss: 0.4098\n",
      "Epoch 9/200\n",
      "\u001b[1m163/163\u001b[0m \u001b[32m━━━━━━━━━━━━━━━━━━━━\u001b[0m\u001b[37m\u001b[0m \u001b[1m279s\u001b[0m 2s/step - acc: 0.9801 - loss: 0.0556 - val_acc: 0.9375 - val_loss: 0.1165\n",
      "Epoch 10/200\n",
      "\u001b[1m163/163\u001b[0m \u001b[32m━━━━━━━━━━━━━━━━━━━━\u001b[0m\u001b[37m\u001b[0m \u001b[1m279s\u001b[0m 2s/step - acc: 0.9842 - loss: 0.0444 - val_acc: 0.9375 - val_loss: 0.1873\n",
      "Epoch 11/200\n",
      "\u001b[1m163/163\u001b[0m \u001b[32m━━━━━━━━━━━━━━━━━━━━\u001b[0m\u001b[37m\u001b[0m \u001b[1m280s\u001b[0m 2s/step - acc: 0.9856 - loss: 0.0399 - val_acc: 0.8750 - val_loss: 0.2843\n",
      "Epoch 12/200\n",
      "\u001b[1m163/163\u001b[0m \u001b[32m━━━━━━━━━━━━━━━━━━━━\u001b[0m\u001b[37m\u001b[0m \u001b[1m280s\u001b[0m 2s/step - acc: 0.9855 - loss: 0.0421 - val_acc: 0.9375 - val_loss: 0.0879\n",
      "Epoch 13/200\n",
      "\u001b[1m163/163\u001b[0m \u001b[32m━━━━━━━━━━━━━━━━━━━━\u001b[0m\u001b[37m\u001b[0m \u001b[1m278s\u001b[0m 2s/step - acc: 0.9889 - loss: 0.0305 - val_acc: 0.8750 - val_loss: 0.1979\n",
      "Epoch 14/200\n",
      "\u001b[1m163/163\u001b[0m \u001b[32m━━━━━━━━━━━━━━━━━━━━\u001b[0m\u001b[37m\u001b[0m \u001b[1m279s\u001b[0m 2s/step - acc: 0.9872 - loss: 0.0351 - val_acc: 0.8750 - val_loss: 0.1296\n",
      "Epoch 15/200\n",
      "\u001b[1m163/163\u001b[0m \u001b[32m━━━━━━━━━━━━━━━━━━━━\u001b[0m\u001b[37m\u001b[0m \u001b[1m282s\u001b[0m 2s/step - acc: 0.9872 - loss: 0.0352 - val_acc: 0.8750 - val_loss: 0.1487\n",
      "Epoch 16/200\n",
      "\u001b[1m163/163\u001b[0m \u001b[32m━━━━━━━━━━━━━━━━━━━━\u001b[0m\u001b[37m\u001b[0m \u001b[1m283s\u001b[0m 2s/step - acc: 0.9941 - loss: 0.0182 - val_acc: 0.9375 - val_loss: 0.3936\n",
      "Epoch 17/200\n",
      "\u001b[1m163/163\u001b[0m \u001b[32m━━━━━━━━━━━━━━━━━━━━\u001b[0m\u001b[37m\u001b[0m \u001b[1m278s\u001b[0m 2s/step - acc: 0.9880 - loss: 0.0308 - val_acc: 0.9375 - val_loss: 0.1823\n",
      "Epoch 18/200\n",
      "\u001b[1m163/163\u001b[0m \u001b[32m━━━━━━━━━━━━━━━━━━━━\u001b[0m\u001b[37m\u001b[0m \u001b[1m288s\u001b[0m 2s/step - acc: 0.9931 - loss: 0.0196 - val_acc: 0.9375 - val_loss: 0.0971\n",
      "Epoch 19/200\n",
      "\u001b[1m163/163\u001b[0m \u001b[32m━━━━━━━━━━━━━━━━━━━━\u001b[0m\u001b[37m\u001b[0m \u001b[1m289s\u001b[0m 2s/step - acc: 0.9925 - loss: 0.0213 - val_acc: 0.9375 - val_loss: 0.1057\n",
      "Epoch 20/200\n",
      "\u001b[1m163/163\u001b[0m \u001b[32m━━━━━━━━━━━━━━━━━━━━\u001b[0m\u001b[37m\u001b[0m \u001b[1m281s\u001b[0m 2s/step - acc: 0.9954 - loss: 0.0174 - val_acc: 0.8750 - val_loss: 0.1971\n",
      "Epoch 21/200\n",
      "\u001b[1m163/163\u001b[0m \u001b[32m━━━━━━━━━━━━━━━━━━━━\u001b[0m\u001b[37m\u001b[0m \u001b[1m280s\u001b[0m 2s/step - acc: 0.9924 - loss: 0.0175 - val_acc: 0.8750 - val_loss: 0.1452\n",
      "Epoch 22/200\n",
      "\u001b[1m163/163\u001b[0m \u001b[32m━━━━━━━━━━━━━━━━━━━━\u001b[0m\u001b[37m\u001b[0m \u001b[1m280s\u001b[0m 2s/step - acc: 0.9962 - loss: 0.0106 - val_acc: 1.0000 - val_loss: 0.0445\n",
      "Epoch 23/200\n",
      "\u001b[1m163/163\u001b[0m \u001b[32m━━━━━━━━━━━━━━━━━━━━\u001b[0m\u001b[37m\u001b[0m \u001b[1m279s\u001b[0m 2s/step - acc: 0.9925 - loss: 0.0178 - val_acc: 0.8750 - val_loss: 0.3270\n",
      "Epoch 24/200\n",
      "\u001b[1m163/163\u001b[0m \u001b[32m━━━━━━━━━━━━━━━━━━━━\u001b[0m\u001b[37m\u001b[0m \u001b[1m281s\u001b[0m 2s/step - acc: 0.9954 - loss: 0.0146 - val_acc: 1.0000 - val_loss: 0.0201\n",
      "Epoch 25/200\n",
      "\u001b[1m163/163\u001b[0m \u001b[32m━━━━━━━━━━━━━━━━━━━━\u001b[0m\u001b[37m\u001b[0m \u001b[1m280s\u001b[0m 2s/step - acc: 0.9967 - loss: 0.0095 - val_acc: 0.8750 - val_loss: 0.4672\n",
      "Epoch 26/200\n",
      "\u001b[1m163/163\u001b[0m \u001b[32m━━━━━━━━━━━━━━━━━━━━\u001b[0m\u001b[37m\u001b[0m \u001b[1m279s\u001b[0m 2s/step - acc: 0.9933 - loss: 0.0238 - val_acc: 0.7500 - val_loss: 1.9237\n",
      "Epoch 27/200\n",
      "\u001b[1m163/163\u001b[0m \u001b[32m━━━━━━━━━━━━━━━━━━━━\u001b[0m\u001b[37m\u001b[0m \u001b[1m282s\u001b[0m 2s/step - acc: 0.9948 - loss: 0.0117 - val_acc: 0.8750 - val_loss: 0.2776\n",
      "Epoch 28/200\n",
      "\u001b[1m163/163\u001b[0m \u001b[32m━━━━━━━━━━━━━━━━━━━━\u001b[0m\u001b[37m\u001b[0m \u001b[1m282s\u001b[0m 2s/step - acc: 0.9969 - loss: 0.0111 - val_acc: 0.8125 - val_loss: 0.8211\n",
      "Epoch 29/200\n",
      "\u001b[1m163/163\u001b[0m \u001b[32m━━━━━━━━━━━━━━━━━━━━\u001b[0m\u001b[37m\u001b[0m \u001b[1m357s\u001b[0m 2s/step - acc: 0.9945 - loss: 0.0145 - val_acc: 0.8750 - val_loss: 0.2432\n",
      "Epoch 30/200\n",
      "\u001b[1m163/163\u001b[0m \u001b[32m━━━━━━━━━━━━━━━━━━━━\u001b[0m\u001b[37m\u001b[0m \u001b[1m368s\u001b[0m 2s/step - acc: 0.9932 - loss: 0.0194 - val_acc: 0.9375 - val_loss: 0.1116\n",
      "Epoch 31/200\n",
      "\u001b[1m163/163\u001b[0m \u001b[32m━━━━━━━━━━━━━━━━━━━━\u001b[0m\u001b[37m\u001b[0m \u001b[1m394s\u001b[0m 2s/step - acc: 0.9956 - loss: 0.0111 - val_acc: 0.8750 - val_loss: 0.3914\n",
      "Epoch 32/200\n",
      "\u001b[1m163/163\u001b[0m \u001b[32m━━━━━━━━━━━━━━━━━━━━\u001b[0m\u001b[37m\u001b[0m \u001b[1m387s\u001b[0m 2s/step - acc: 0.9939 - loss: 0.0125 - val_acc: 0.8125 - val_loss: 0.5348\n",
      "Epoch 33/200\n",
      "\u001b[1m163/163\u001b[0m \u001b[32m━━━━━━━━━━━━━━━━━━━━\u001b[0m\u001b[37m\u001b[0m \u001b[1m333s\u001b[0m 2s/step - acc: 0.9949 - loss: 0.0157 - val_acc: 1.0000 - val_loss: 0.0279\n",
      "Epoch 34/200\n",
      "\u001b[1m163/163\u001b[0m \u001b[32m━━━━━━━━━━━━━━━━━━━━\u001b[0m\u001b[37m\u001b[0m \u001b[1m645s\u001b[0m 4s/step - acc: 0.9972 - loss: 0.0099 - val_acc: 0.8125 - val_loss: 0.3070\n",
      "Epoch 35/200\n",
      "\u001b[1m163/163\u001b[0m \u001b[32m━━━━━━━━━━━━━━━━━━━━\u001b[0m\u001b[37m\u001b[0m \u001b[1m718s\u001b[0m 4s/step - acc: 0.9945 - loss: 0.0152 - val_acc: 0.9375 - val_loss: 0.2392\n",
      "Epoch 36/200\n",
      "\u001b[1m163/163\u001b[0m \u001b[32m━━━━━━━━━━━━━━━━━━━━\u001b[0m\u001b[37m\u001b[0m \u001b[1m721s\u001b[0m 4s/step - acc: 0.9935 - loss: 0.0198 - val_acc: 0.9375 - val_loss: 0.1329\n",
      "Epoch 37/200\n",
      "\u001b[1m163/163\u001b[0m \u001b[32m━━━━━━━━━━━━━━━━━━━━\u001b[0m\u001b[37m\u001b[0m \u001b[1m576s\u001b[0m 3s/step - acc: 0.9940 - loss: 0.0185 - val_acc: 0.7500 - val_loss: 1.2867\n",
      "Epoch 38/200\n",
      "\u001b[1m163/163\u001b[0m \u001b[32m━━━━━━━━━━━━━━━━━━━━\u001b[0m\u001b[37m\u001b[0m \u001b[1m562s\u001b[0m 3s/step - acc: 0.9945 - loss: 0.0158 - val_acc: 0.8750 - val_loss: 0.5795\n",
      "Epoch 39/200\n",
      "\u001b[1m163/163\u001b[0m \u001b[32m━━━━━━━━━━━━━━━━━━━━\u001b[0m\u001b[37m\u001b[0m \u001b[1m879s\u001b[0m 5s/step - acc: 0.9990 - loss: 0.0020 - val_acc: 0.8125 - val_loss: 0.8276\n",
      "Epoch 40/200\n",
      "\u001b[1m163/163\u001b[0m \u001b[32m━━━━━━━━━━━━━━━━━━━━\u001b[0m\u001b[37m\u001b[0m \u001b[1m520s\u001b[0m 3s/step - acc: 0.9971 - loss: 0.0083 - val_acc: 0.8750 - val_loss: 0.2185\n",
      "Epoch 41/200\n",
      "\u001b[1m163/163\u001b[0m \u001b[32m━━━━━━━━━━━━━━━━━━━━\u001b[0m\u001b[37m\u001b[0m \u001b[1m287s\u001b[0m 2s/step - acc: 0.9957 - loss: 0.0147 - val_acc: 0.8125 - val_loss: 0.5112\n",
      "Epoch 42/200\n",
      "\u001b[1m163/163\u001b[0m \u001b[32m━━━━━━━━━━━━━━━━━━━━\u001b[0m\u001b[37m\u001b[0m \u001b[1m288s\u001b[0m 2s/step - acc: 0.9988 - loss: 0.0045 - val_acc: 0.8750 - val_loss: 0.2123\n",
      "Epoch 43/200\n",
      "\u001b[1m163/163\u001b[0m \u001b[32m━━━━━━━━━━━━━━━━━━━━\u001b[0m\u001b[37m\u001b[0m \u001b[1m286s\u001b[0m 2s/step - acc: 0.9953 - loss: 0.0114 - val_acc: 0.9375 - val_loss: 0.1683\n",
      "Epoch 44/200\n",
      "\u001b[1m163/163\u001b[0m \u001b[32m━━━━━━━━━━━━━━━━━━━━\u001b[0m\u001b[37m\u001b[0m \u001b[1m289s\u001b[0m 2s/step - acc: 0.9968 - loss: 0.0116 - val_acc: 0.9375 - val_loss: 0.0670\n",
      "Epoch 45/200\n",
      "\u001b[1m163/163\u001b[0m \u001b[32m━━━━━━━━━━━━━━━━━━━━\u001b[0m\u001b[37m\u001b[0m \u001b[1m289s\u001b[0m 2s/step - acc: 0.9988 - loss: 0.0041 - val_acc: 0.9375 - val_loss: 0.2178\n",
      "Epoch 46/200\n",
      "\u001b[1m163/163\u001b[0m \u001b[32m━━━━━━━━━━━━━━━━━━━━\u001b[0m\u001b[37m\u001b[0m \u001b[1m289s\u001b[0m 2s/step - acc: 0.9971 - loss: 0.0076 - val_acc: 1.0000 - val_loss: 0.0402\n",
      "Epoch 47/200\n",
      "\u001b[1m163/163\u001b[0m \u001b[32m━━━━━━━━━━━━━━━━━━━━\u001b[0m\u001b[37m\u001b[0m \u001b[1m779s\u001b[0m 5s/step - acc: 0.9901 - loss: 0.0332 - val_acc: 0.9375 - val_loss: 0.0890\n",
      "Epoch 48/200\n",
      "\u001b[1m163/163\u001b[0m \u001b[32m━━━━━━━━━━━━━━━━━━━━\u001b[0m\u001b[37m\u001b[0m \u001b[1m647s\u001b[0m 4s/step - acc: 0.9989 - loss: 0.0036 - val_acc: 0.8125 - val_loss: 0.4403\n",
      "Epoch 49/200\n",
      "\u001b[1m163/163\u001b[0m \u001b[32m━━━━━━━━━━━━━━━━━━━━\u001b[0m\u001b[37m\u001b[0m \u001b[1m297s\u001b[0m 2s/step - acc: 0.9973 - loss: 0.0102 - val_acc: 0.9375 - val_loss: 0.2538\n",
      "Epoch 50/200\n",
      "\u001b[1m163/163\u001b[0m \u001b[32m━━━━━━━━━━━━━━━━━━━━\u001b[0m\u001b[37m\u001b[0m \u001b[1m287s\u001b[0m 2s/step - acc: 0.9991 - loss: 0.0027 - val_acc: 0.8750 - val_loss: 0.4321\n",
      "Epoch 51/200\n",
      "\u001b[1m163/163\u001b[0m \u001b[32m━━━━━━━━━━━━━━━━━━━━\u001b[0m\u001b[37m\u001b[0m \u001b[1m284s\u001b[0m 2s/step - acc: 0.9960 - loss: 0.0110 - val_acc: 0.8750 - val_loss: 0.9053\n",
      "Epoch 52/200\n",
      "\u001b[1m163/163\u001b[0m \u001b[32m━━━━━━━━━━━━━━━━━━━━\u001b[0m\u001b[37m\u001b[0m \u001b[1m284s\u001b[0m 2s/step - acc: 0.9964 - loss: 0.0067 - val_acc: 0.9375 - val_loss: 0.2106\n",
      "Epoch 53/200\n",
      "\u001b[1m163/163\u001b[0m \u001b[32m━━━━━━━━━━━━━━━━━━━━\u001b[0m\u001b[37m\u001b[0m \u001b[1m287s\u001b[0m 2s/step - acc: 0.9958 - loss: 0.0082 - val_acc: 0.9375 - val_loss: 0.3915\n",
      "Epoch 54/200\n",
      "\u001b[1m163/163\u001b[0m \u001b[32m━━━━━━━━━━━━━━━━━━━━\u001b[0m\u001b[37m\u001b[0m \u001b[1m289s\u001b[0m 2s/step - acc: 0.9980 - loss: 0.0050 - val_acc: 0.8750 - val_loss: 1.1209\n",
      "Epoch 55/200\n",
      "\u001b[1m163/163\u001b[0m \u001b[32m━━━━━━━━━━━━━━━━━━━━\u001b[0m\u001b[37m\u001b[0m \u001b[1m286s\u001b[0m 2s/step - acc: 0.9947 - loss: 0.0141 - val_acc: 0.9375 - val_loss: 0.6926\n",
      "Epoch 56/200\n",
      "\u001b[1m163/163\u001b[0m \u001b[32m━━━━━━━━━━━━━━━━━━━━\u001b[0m\u001b[37m\u001b[0m \u001b[1m284s\u001b[0m 2s/step - acc: 0.9988 - loss: 0.0062 - val_acc: 0.9375 - val_loss: 0.4078\n",
      "Epoch 57/200\n",
      "\u001b[1m163/163\u001b[0m \u001b[32m━━━━━━━━━━━━━━━━━━━━\u001b[0m\u001b[37m\u001b[0m \u001b[1m282s\u001b[0m 2s/step - acc: 0.9990 - loss: 0.0023 - val_acc: 0.9375 - val_loss: 0.1467\n",
      "Epoch 58/200\n",
      "\u001b[1m163/163\u001b[0m \u001b[32m━━━━━━━━━━━━━━━━━━━━\u001b[0m\u001b[37m\u001b[0m \u001b[1m282s\u001b[0m 2s/step - acc: 0.9990 - loss: 0.0028 - val_acc: 0.8125 - val_loss: 1.7031\n",
      "Epoch 59/200\n",
      "\u001b[1m163/163\u001b[0m \u001b[32m━━━━━━━━━━━━━━━━━━━━\u001b[0m\u001b[37m\u001b[0m \u001b[1m282s\u001b[0m 2s/step - acc: 0.9966 - loss: 0.0153 - val_acc: 0.8750 - val_loss: 0.1565\n",
      "Epoch 60/200\n",
      "\u001b[1m163/163\u001b[0m \u001b[32m━━━━━━━━━━━━━━━━━━━━\u001b[0m\u001b[37m\u001b[0m \u001b[1m282s\u001b[0m 2s/step - acc: 0.9970 - loss: 0.0070 - val_acc: 0.8750 - val_loss: 0.3413\n",
      "Epoch 61/200\n",
      "\u001b[1m163/163\u001b[0m \u001b[32m━━━━━━━━━━━━━━━━━━━━\u001b[0m\u001b[37m\u001b[0m \u001b[1m284s\u001b[0m 2s/step - acc: 0.9993 - loss: 0.0022 - val_acc: 0.8750 - val_loss: 0.3770\n",
      "Epoch 62/200\n",
      "\u001b[1m163/163\u001b[0m \u001b[32m━━━━━━━━━━━━━━━━━━━━\u001b[0m\u001b[37m\u001b[0m \u001b[1m288s\u001b[0m 2s/step - acc: 0.9964 - loss: 0.0064 - val_acc: 1.0000 - val_loss: 0.0345\n",
      "Epoch 63/200\n",
      "\u001b[1m163/163\u001b[0m \u001b[32m━━━━━━━━━━━━━━━━━━━━\u001b[0m\u001b[37m\u001b[0m \u001b[1m281s\u001b[0m 2s/step - acc: 0.9912 - loss: 0.0383 - val_acc: 0.9375 - val_loss: 0.5378\n",
      "Epoch 64/200\n",
      "\u001b[1m163/163\u001b[0m \u001b[32m━━━━━━━━━━━━━━━━━━━━\u001b[0m\u001b[37m\u001b[0m \u001b[1m281s\u001b[0m 2s/step - acc: 0.9991 - loss: 0.0030 - val_acc: 0.9375 - val_loss: 0.3315\n",
      "Epoch 65/200\n",
      "\u001b[1m163/163\u001b[0m \u001b[32m━━━━━━━━━━━━━━━━━━━━\u001b[0m\u001b[37m\u001b[0m \u001b[1m282s\u001b[0m 2s/step - acc: 0.9983 - loss: 0.0049 - val_acc: 0.9375 - val_loss: 1.3580\n",
      "Epoch 66/200\n",
      "\u001b[1m163/163\u001b[0m \u001b[32m━━━━━━━━━━━━━━━━━━━━\u001b[0m\u001b[37m\u001b[0m \u001b[1m285s\u001b[0m 2s/step - acc: 0.9994 - loss: 0.0022 - val_acc: 0.9375 - val_loss: 0.1643\n",
      "Epoch 67/200\n",
      "\u001b[1m163/163\u001b[0m \u001b[32m━━━━━━━━━━━━━━━━━━━━\u001b[0m\u001b[37m\u001b[0m \u001b[1m283s\u001b[0m 2s/step - acc: 0.9904 - loss: 0.0347 - val_acc: 0.8750 - val_loss: 0.5827\n",
      "Epoch 68/200\n",
      "\u001b[1m163/163\u001b[0m \u001b[32m━━━━━━━━━━━━━━━━━━━━\u001b[0m\u001b[37m\u001b[0m \u001b[1m283s\u001b[0m 2s/step - acc: 0.9975 - loss: 0.0067 - val_acc: 0.9375 - val_loss: 1.1726\n",
      "Epoch 69/200\n",
      "\u001b[1m163/163\u001b[0m \u001b[32m━━━━━━━━━━━━━━━━━━━━\u001b[0m\u001b[37m\u001b[0m \u001b[1m282s\u001b[0m 2s/step - acc: 0.9987 - loss: 0.0039 - val_acc: 0.8125 - val_loss: 0.9260\n",
      "Epoch 70/200\n",
      "\u001b[1m163/163\u001b[0m \u001b[32m━━━━━━━━━━━━━━━━━━━━\u001b[0m\u001b[37m\u001b[0m \u001b[1m281s\u001b[0m 2s/step - acc: 0.9960 - loss: 0.0080 - val_acc: 0.8750 - val_loss: 0.8055\n",
      "Epoch 71/200\n",
      "\u001b[1m163/163\u001b[0m \u001b[32m━━━━━━━━━━━━━━━━━━━━\u001b[0m\u001b[37m\u001b[0m \u001b[1m281s\u001b[0m 2s/step - acc: 0.9982 - loss: 0.0031 - val_acc: 0.9375 - val_loss: 0.4687\n",
      "Epoch 72/200\n",
      "\u001b[1m163/163\u001b[0m \u001b[32m━━━━━━━━━━━━━━━━━━━━\u001b[0m\u001b[37m\u001b[0m \u001b[1m283s\u001b[0m 2s/step - acc: 0.9998 - loss: 0.0019 - val_acc: 0.9375 - val_loss: 0.4635\n",
      "Epoch 73/200\n",
      "\u001b[1m163/163\u001b[0m \u001b[32m━━━━━━━━━━━━━━━━━━━━\u001b[0m\u001b[37m\u001b[0m \u001b[1m283s\u001b[0m 2s/step - acc: 0.9992 - loss: 0.0029 - val_acc: 1.0000 - val_loss: 0.0051\n",
      "Epoch 74/200\n",
      "\u001b[1m163/163\u001b[0m \u001b[32m━━━━━━━━━━━━━━━━━━━━\u001b[0m\u001b[37m\u001b[0m \u001b[1m281s\u001b[0m 2s/step - acc: 0.9942 - loss: 0.0133 - val_acc: 0.8125 - val_loss: 1.6868\n",
      "Epoch 75/200\n",
      "\u001b[1m163/163\u001b[0m \u001b[32m━━━━━━━━━━━━━━━━━━━━\u001b[0m\u001b[37m\u001b[0m \u001b[1m284s\u001b[0m 2s/step - acc: 0.9954 - loss: 0.0146 - val_acc: 0.9375 - val_loss: 0.0720\n",
      "Epoch 76/200\n",
      "\u001b[1m163/163\u001b[0m \u001b[32m━━━━━━━━━━━━━━━━━━━━\u001b[0m\u001b[37m\u001b[0m \u001b[1m279s\u001b[0m 2s/step - acc: 0.9983 - loss: 0.0085 - val_acc: 0.9375 - val_loss: 0.3319\n",
      "Epoch 77/200\n",
      "\u001b[1m163/163\u001b[0m \u001b[32m━━━━━━━━━━━━━━━━━━━━\u001b[0m\u001b[37m\u001b[0m \u001b[1m281s\u001b[0m 2s/step - acc: 0.9942 - loss: 0.0176 - val_acc: 0.9375 - val_loss: 0.1441\n",
      "Epoch 78/200\n",
      "\u001b[1m163/163\u001b[0m \u001b[32m━━━━━━━━━━━━━━━━━━━━\u001b[0m\u001b[37m\u001b[0m \u001b[1m280s\u001b[0m 2s/step - acc: 0.9976 - loss: 0.0045 - val_acc: 0.9375 - val_loss: 0.1195\n",
      "Epoch 79/200\n",
      "\u001b[1m163/163\u001b[0m \u001b[32m━━━━━━━━━━━━━━━━━━━━\u001b[0m\u001b[37m\u001b[0m \u001b[1m283s\u001b[0m 2s/step - acc: 0.9994 - loss: 0.0013 - val_acc: 0.9375 - val_loss: 0.3318\n",
      "Epoch 80/200\n",
      "\u001b[1m163/163\u001b[0m \u001b[32m━━━━━━━━━━━━━━━━━━━━\u001b[0m\u001b[37m\u001b[0m \u001b[1m282s\u001b[0m 2s/step - acc: 0.9986 - loss: 0.0046 - val_acc: 0.8750 - val_loss: 1.7023\n",
      "Epoch 81/200\n",
      "\u001b[1m163/163\u001b[0m \u001b[32m━━━━━━━━━━━━━━━━━━━━\u001b[0m\u001b[37m\u001b[0m \u001b[1m282s\u001b[0m 2s/step - acc: 0.9964 - loss: 0.0153 - val_acc: 0.9375 - val_loss: 0.3319\n",
      "Epoch 82/200\n",
      "\u001b[1m163/163\u001b[0m \u001b[32m━━━━━━━━━━━━━━━━━━━━\u001b[0m\u001b[37m\u001b[0m \u001b[1m284s\u001b[0m 2s/step - acc: 0.9980 - loss: 0.0058 - val_acc: 0.9375 - val_loss: 0.8780\n",
      "Epoch 83/200\n",
      "\u001b[1m163/163\u001b[0m \u001b[32m━━━━━━━━━━━━━━━━━━━━\u001b[0m\u001b[37m\u001b[0m \u001b[1m281s\u001b[0m 2s/step - acc: 0.9971 - loss: 0.0060 - val_acc: 0.8750 - val_loss: 0.1522\n",
      "Epoch 84/200\n",
      "\u001b[1m163/163\u001b[0m \u001b[32m━━━━━━━━━━━━━━━━━━━━\u001b[0m\u001b[37m\u001b[0m \u001b[1m281s\u001b[0m 2s/step - acc: 0.9999 - loss: 7.0962e-04 - val_acc: 0.8125 - val_loss: 1.5052\n",
      "Epoch 85/200\n",
      "\u001b[1m163/163\u001b[0m \u001b[32m━━━━━━━━━━━━━━━━━━━━\u001b[0m\u001b[37m\u001b[0m \u001b[1m282s\u001b[0m 2s/step - acc: 0.9992 - loss: 0.0045 - val_acc: 0.9375 - val_loss: 0.3794\n",
      "Epoch 86/200\n",
      "\u001b[1m163/163\u001b[0m \u001b[32m━━━━━━━━━━━━━━━━━━━━\u001b[0m\u001b[37m\u001b[0m \u001b[1m284s\u001b[0m 2s/step - acc: 0.9973 - loss: 0.0067 - val_acc: 0.9375 - val_loss: 0.1130\n",
      "Epoch 87/200\n",
      "\u001b[1m163/163\u001b[0m \u001b[32m━━━━━━━━━━━━━━━━━━━━\u001b[0m\u001b[37m\u001b[0m \u001b[1m285s\u001b[0m 2s/step - acc: 0.9953 - loss: 0.0173 - val_acc: 0.8750 - val_loss: 0.1747\n",
      "Epoch 88/200\n",
      "\u001b[1m163/163\u001b[0m \u001b[32m━━━━━━━━━━━━━━━━━━━━\u001b[0m\u001b[37m\u001b[0m \u001b[1m283s\u001b[0m 2s/step - acc: 0.9976 - loss: 0.0053 - val_acc: 0.8125 - val_loss: 1.9355\n",
      "Epoch 89/200\n",
      "\u001b[1m163/163\u001b[0m \u001b[32m━━━━━━━━━━━━━━━━━━━━\u001b[0m\u001b[37m\u001b[0m \u001b[1m282s\u001b[0m 2s/step - acc: 0.9950 - loss: 0.0181 - val_acc: 0.8125 - val_loss: 1.6746\n",
      "Epoch 90/200\n",
      "\u001b[1m163/163\u001b[0m \u001b[32m━━━━━━━━━━━━━━━━━━━━\u001b[0m\u001b[37m\u001b[0m \u001b[1m281s\u001b[0m 2s/step - acc: 0.9961 - loss: 0.0168 - val_acc: 0.8750 - val_loss: 0.4173\n",
      "Epoch 91/200\n",
      "\u001b[1m163/163\u001b[0m \u001b[32m━━━━━━━━━━━━━━━━━━━━\u001b[0m\u001b[37m\u001b[0m \u001b[1m282s\u001b[0m 2s/step - acc: 0.9998 - loss: 8.7013e-04 - val_acc: 0.9375 - val_loss: 0.1519\n",
      "Epoch 92/200\n",
      "\u001b[1m163/163\u001b[0m \u001b[32m━━━━━━━━━━━━━━━━━━━━\u001b[0m\u001b[37m\u001b[0m \u001b[1m323s\u001b[0m 2s/step - acc: 0.9987 - loss: 0.0051 - val_acc: 0.9375 - val_loss: 0.9131\n",
      "Epoch 93/200\n",
      "\u001b[1m163/163\u001b[0m \u001b[32m━━━━━━━━━━━━━━━━━━━━\u001b[0m\u001b[37m\u001b[0m \u001b[1m292s\u001b[0m 2s/step - acc: 0.9981 - loss: 0.0083 - val_acc: 0.8750 - val_loss: 0.9734\n",
      "Epoch 94/200\n",
      "\u001b[1m163/163\u001b[0m \u001b[32m━━━━━━━━━━━━━━━━━━━━\u001b[0m\u001b[37m\u001b[0m \u001b[1m287s\u001b[0m 2s/step - acc: 0.9984 - loss: 0.0027 - val_acc: 0.8750 - val_loss: 0.3858\n",
      "Epoch 95/200\n",
      "\u001b[1m163/163\u001b[0m \u001b[32m━━━━━━━━━━━━━━━━━━━━\u001b[0m\u001b[37m\u001b[0m \u001b[1m423s\u001b[0m 3s/step - acc: 0.9978 - loss: 0.0048 - val_acc: 0.8750 - val_loss: 0.9298\n",
      "Epoch 96/200\n",
      "\u001b[1m163/163\u001b[0m \u001b[32m━━━━━━━━━━━━━━━━━━━━\u001b[0m\u001b[37m\u001b[0m \u001b[1m400s\u001b[0m 2s/step - acc: 0.9944 - loss: 0.0179 - val_acc: 0.8750 - val_loss: 0.9436\n",
      "Epoch 97/200\n",
      "\u001b[1m163/163\u001b[0m \u001b[32m━━━━━━━━━━━━━━━━━━━━\u001b[0m\u001b[37m\u001b[0m \u001b[1m398s\u001b[0m 2s/step - acc: 0.9993 - loss: 0.0020 - val_acc: 0.8750 - val_loss: 0.8900\n",
      "Epoch 98/200\n",
      "\u001b[1m163/163\u001b[0m \u001b[32m━━━━━━━━━━━━━━━━━━━━\u001b[0m\u001b[37m\u001b[0m \u001b[1m380s\u001b[0m 2s/step - acc: 0.9977 - loss: 0.0049 - val_acc: 0.8750 - val_loss: 0.8272\n",
      "Epoch 99/200\n",
      "\u001b[1m163/163\u001b[0m \u001b[32m━━━━━━━━━━━━━━━━━━━━\u001b[0m\u001b[37m\u001b[0m \u001b[1m433s\u001b[0m 3s/step - acc: 0.9992 - loss: 0.0017 - val_acc: 0.8750 - val_loss: 0.7179\n",
      "Epoch 100/200\n",
      "\u001b[1m163/163\u001b[0m \u001b[32m━━━━━━━━━━━━━━━━━━━━\u001b[0m\u001b[37m\u001b[0m \u001b[1m367s\u001b[0m 2s/step - acc: 0.9957 - loss: 0.0167 - val_acc: 0.9375 - val_loss: 0.2684\n",
      "Epoch 101/200\n",
      "\u001b[1m163/163\u001b[0m \u001b[32m━━━━━━━━━━━━━━━━━━━━\u001b[0m\u001b[37m\u001b[0m \u001b[1m318s\u001b[0m 2s/step - acc: 0.9945 - loss: 0.0135 - val_acc: 0.9375 - val_loss: 0.5273\n",
      "Epoch 102/200\n",
      "\u001b[1m163/163\u001b[0m \u001b[32m━━━━━━━━━━━━━━━━━━━━\u001b[0m\u001b[37m\u001b[0m \u001b[1m419s\u001b[0m 3s/step - acc: 0.9976 - loss: 0.0136 - val_acc: 0.8750 - val_loss: 1.5071\n",
      "Epoch 103/200\n",
      "\u001b[1m163/163\u001b[0m \u001b[32m━━━━━━━━━━━━━━━━━━━━\u001b[0m\u001b[37m\u001b[0m \u001b[1m410s\u001b[0m 2s/step - acc: 0.9989 - loss: 0.0038 - val_acc: 0.9375 - val_loss: 0.5749\n",
      "Epoch 104/200\n",
      "\u001b[1m163/163\u001b[0m \u001b[32m━━━━━━━━━━━━━━━━━━━━\u001b[0m\u001b[37m\u001b[0m \u001b[1m433s\u001b[0m 3s/step - acc: 0.9979 - loss: 0.0104 - val_acc: 0.9375 - val_loss: 0.7314\n",
      "Epoch 105/200\n",
      "\u001b[1m163/163\u001b[0m \u001b[32m━━━━━━━━━━━━━━━━━━━━\u001b[0m\u001b[37m\u001b[0m \u001b[1m469s\u001b[0m 3s/step - acc: 0.9989 - loss: 0.0059 - val_acc: 0.8750 - val_loss: 0.5882\n",
      "Epoch 106/200\n",
      "\u001b[1m163/163\u001b[0m \u001b[32m━━━━━━━━━━━━━━━━━━━━\u001b[0m\u001b[37m\u001b[0m \u001b[1m499s\u001b[0m 3s/step - acc: 0.9979 - loss: 0.0030 - val_acc: 0.9375 - val_loss: 0.3667\n",
      "Epoch 107/200\n",
      "\u001b[1m163/163\u001b[0m \u001b[32m━━━━━━━━━━━━━━━━━━━━\u001b[0m\u001b[37m\u001b[0m \u001b[1m452s\u001b[0m 3s/step - acc: 0.9996 - loss: 6.2125e-04 - val_acc: 0.9375 - val_loss: 0.6350\n",
      "Epoch 108/200\n",
      "\u001b[1m163/163\u001b[0m \u001b[32m━━━━━━━━━━━━━━━━━━━━\u001b[0m\u001b[37m\u001b[0m \u001b[1m419s\u001b[0m 3s/step - acc: 0.9991 - loss: 0.0018 - val_acc: 0.9375 - val_loss: 0.5074\n",
      "Epoch 109/200\n",
      "\u001b[1m163/163\u001b[0m \u001b[32m━━━━━━━━━━━━━━━━━━━━\u001b[0m\u001b[37m\u001b[0m \u001b[1m384s\u001b[0m 2s/step - acc: 0.9959 - loss: 0.0127 - val_acc: 0.9375 - val_loss: 0.5709\n",
      "Epoch 110/200\n",
      "\u001b[1m163/163\u001b[0m \u001b[32m━━━━━━━━━━━━━━━━━━━━\u001b[0m\u001b[37m\u001b[0m \u001b[1m448s\u001b[0m 3s/step - acc: 0.9992 - loss: 0.0025 - val_acc: 0.9375 - val_loss: 1.3564\n",
      "Epoch 111/200\n",
      "\u001b[1m163/163\u001b[0m \u001b[32m━━━━━━━━━━━━━━━━━━━━\u001b[0m\u001b[37m\u001b[0m \u001b[1m446s\u001b[0m 3s/step - acc: 0.9952 - loss: 0.0133 - val_acc: 0.8125 - val_loss: 2.7041\n",
      "Epoch 112/200\n",
      "\u001b[1m163/163\u001b[0m \u001b[32m━━━━━━━━━━━━━━━━━━━━\u001b[0m\u001b[37m\u001b[0m \u001b[1m433s\u001b[0m 3s/step - acc: 0.9960 - loss: 0.0124 - val_acc: 0.8750 - val_loss: 0.9433\n",
      "Epoch 113/200\n",
      "\u001b[1m163/163\u001b[0m \u001b[32m━━━━━━━━━━━━━━━━━━━━\u001b[0m\u001b[37m\u001b[0m \u001b[1m443s\u001b[0m 3s/step - acc: 0.9960 - loss: 0.0207 - val_acc: 0.9375 - val_loss: 0.5722\n",
      "Epoch 114/200\n",
      "\u001b[1m163/163\u001b[0m \u001b[32m━━━━━━━━━━━━━━━━━━━━\u001b[0m\u001b[37m\u001b[0m \u001b[1m462s\u001b[0m 3s/step - acc: 0.9972 - loss: 0.0084 - val_acc: 0.9375 - val_loss: 0.0664\n",
      "Epoch 115/200\n",
      "\u001b[1m163/163\u001b[0m \u001b[32m━━━━━━━━━━━━━━━━━━━━\u001b[0m\u001b[37m\u001b[0m \u001b[1m440s\u001b[0m 3s/step - acc: 0.9993 - loss: 0.0030 - val_acc: 0.9375 - val_loss: 0.0784\n",
      "Epoch 116/200\n",
      "\u001b[1m125/163\u001b[0m \u001b[32m━━━━━━━━━━━━━━━\u001b[0m\u001b[37m━━━━━\u001b[0m \u001b[1m1:54\u001b[0m 3s/step - acc: 0.9986 - loss: 0.0055"
     ]
    }
   ],
   "source": [
    "history = model.fit(training_data,\n",
    "            validation_data=val_data,\n",
    "            epochs=200,\n",
    "            verbose=1)"
   ]
  },
  {
   "cell_type": "code",
   "execution_count": null,
   "metadata": {},
   "outputs": [],
   "source": [
    "%matplotlib inline\n",
    "import matplotlib.pyplot as plt\n",
    "acc = history.history['acc']\n",
    "val_acc = history.history['val_acc']\n",
    "loss = history.history['loss']\n",
    "val_loss = history.history['val_loss']\n",
    "\n",
    "epochs = range(len(acc))\n",
    "\n",
    "plt.plot(epochs, acc, 'r', label='Training accuracy')\n",
    "plt.plot(epochs, val_acc, 'b', label='Validation accuracy')\n",
    "plt.title('Training and validation accuracy')\n",
    "plt.legend(loc=0)\n",
    "plt.figure()"
   ]
  },
  {
   "cell_type": "code",
   "execution_count": null,
   "metadata": {},
   "outputs": [],
   "source": [
    "# Evaluate the model on the test data\n",
    "test_loss, test_accuracy = model.evaluate(test_data)\n",
    "\n",
    "print(\"Loss of the model is -\", test_loss * 100, \"%\")\n",
    "print(\"Accuracy of the model is -\", test_accuracy * 100, \"%\")\n"
   ]
  },
  {
   "cell_type": "code",
   "execution_count": null,
   "metadata": {},
   "outputs": [],
   "source": [
    "model.save(\"model2.h5\")\n",
    "model.save(\"pneumonia_model2.keras\")"
   ]
  },
  {
   "cell_type": "code",
   "execution_count": null,
   "metadata": {},
   "outputs": [],
   "source": [
    "from tensorflow.keras.models import model_from_json # type: ignore\n",
    "model_json = model.to_json()\n",
    "with open(\"model2.json\", \"w\") as json_file:\n",
    "    json_file.write(model_json)"
   ]
  },
  {
   "cell_type": "code",
   "execution_count": null,
   "metadata": {},
   "outputs": [],
   "source": []
  }
 ],
 "metadata": {
  "kernelspec": {
   "display_name": "Python 3",
   "language": "python",
   "name": "python3"
  },
  "language_info": {
   "codemirror_mode": {
    "name": "ipython",
    "version": 3
   },
   "file_extension": ".py",
   "mimetype": "text/x-python",
   "name": "python",
   "nbconvert_exporter": "python",
   "pygments_lexer": "ipython3",
   "version": "3.12.1"
  }
 },
 "nbformat": 4,
 "nbformat_minor": 2
}
